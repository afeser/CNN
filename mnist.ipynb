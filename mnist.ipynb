{
 "cells": [
  {
   "cell_type": "code",
   "execution_count": 1,
   "metadata": {},
   "outputs": [],
   "source": [
    "import torch\n",
    "import torch.nn as nn\n",
    "import torch.nn.functional as F\n",
    "import torchvision.datasets as dsets\n",
    "import torchvision.transforms as transforms\n",
    "from torch.autograd import Variable"
   ]
  },
  {
   "cell_type": "code",
   "execution_count": 2,
   "metadata": {},
   "outputs": [],
   "source": [
    "epochs = 10\n",
    "batch_sz = 100\n",
    "learning_rate = 0.001"
   ]
  },
  {
   "cell_type": "code",
   "execution_count": 3,
   "metadata": {},
   "outputs": [],
   "source": [
    "class Net(nn.Module):\n",
    "    def __init__(self):\n",
    "        super(Net, self).__init__()\n",
    "        self.conv1 = nn.Conv2d(1, 10, kernel_size= 5)\n",
    "        self.conv2 = nn.Conv2d(10, 20, kernel_size= 5)\n",
    "        self.dropout = nn.Dropout2d()\n",
    "        \n",
    "        self.fc1 = nn.Linear(320, 100)\n",
    "        self.fc2 = nn.Linear(100,10)   \n",
    "        \n",
    "    def forward(self, x):\n",
    "        x = F.relu(F.max_pool2d(self.conv1(x), 2))\n",
    "        x = F.relu(F.max_pool2d(F.dropout2d(self.conv2(x)), 2))\n",
    "        \n",
    "        x = x.view(-1, 320)\n",
    "        x = self.fc1(x)\n",
    "        x = F.relu(x)\n",
    "        x = self.fc2(x)\n",
    "        return x"
   ]
  },
  {
   "cell_type": "code",
   "execution_count": 4,
   "metadata": {},
   "outputs": [],
   "source": [
    "train_dataset = dsets.MNIST(root = './data', \n",
    "                             train= True,\n",
    "                             download=True, \n",
    "                             transform= transforms.ToTensor())\n",
    "\n",
    "test_dataset = dsets.MNIST(root= './data', \n",
    "                            train = False,\n",
    "                            transform= transforms.ToTensor())"
   ]
  },
  {
   "cell_type": "code",
   "execution_count": 5,
   "metadata": {},
   "outputs": [],
   "source": [
    "train_loader = torch.utils.data.DataLoader(batch_size= batch_sz,\n",
    "                                           dataset= train_dataset, \n",
    "                                           shuffle= True)\n",
    "\n",
    "test_loader = torch.utils.data.DataLoader(batch_size= batch_sz, \n",
    "                                          dataset = test_dataset, \n",
    "                                          shuffle = False)"
   ]
  },
  {
   "cell_type": "code",
   "execution_count": 6,
   "metadata": {},
   "outputs": [],
   "source": [
    "net = Net()\n",
    "criterion = nn.CrossEntropyLoss()\n",
    "optimizer = torch.optim.Adam(net.parameters(), lr = learning_rate)"
   ]
  },
  {
   "cell_type": "code",
   "execution_count": 7,
   "metadata": {},
   "outputs": [
    {
     "name": "stderr",
     "output_type": "stream",
     "text": [
      "/usr/local/lib/python2.7/dist-packages/ipykernel_launcher.py:15: UserWarning: invalid index of a 0-dim tensor. This will be an error in PyTorch 0.5. Use tensor.item() to convert a 0-dim tensor to a Python number\n",
      "  from ipykernel import kernelapp as app\n"
     ]
    },
    {
     "name": "stdout",
     "output_type": "stream",
     "text": [
      "Epoch [1/10], Step [100/600], Loss: 0.4688\n",
      "Epoch [1/10], Step [200/600], Loss: 0.1679\n",
      "Epoch [1/10], Step [300/600], Loss: 0.1782\n",
      "Epoch [1/10], Step [400/600], Loss: 0.1058\n",
      "Epoch [1/10], Step [500/600], Loss: 0.0619\n",
      "Epoch [1/10], Step [600/600], Loss: 0.0694\n",
      "Epoch [2/10], Step [100/600], Loss: 0.0355\n",
      "Epoch [2/10], Step [200/600], Loss: 0.0381\n",
      "Epoch [2/10], Step [300/600], Loss: 0.1721\n",
      "Epoch [2/10], Step [400/600], Loss: 0.1934\n",
      "Epoch [2/10], Step [500/600], Loss: 0.1584\n",
      "Epoch [2/10], Step [600/600], Loss: 0.0351\n",
      "Epoch [3/10], Step [100/600], Loss: 0.1075\n",
      "Epoch [3/10], Step [200/600], Loss: 0.0471\n",
      "Epoch [3/10], Step [300/600], Loss: 0.0416\n",
      "Epoch [3/10], Step [400/600], Loss: 0.0873\n",
      "Epoch [3/10], Step [500/600], Loss: 0.0523\n",
      "Epoch [3/10], Step [600/600], Loss: 0.1682\n",
      "Epoch [4/10], Step [100/600], Loss: 0.0743\n",
      "Epoch [4/10], Step [200/600], Loss: 0.0675\n",
      "Epoch [4/10], Step [300/600], Loss: 0.0475\n",
      "Epoch [4/10], Step [400/600], Loss: 0.0571\n",
      "Epoch [4/10], Step [500/600], Loss: 0.0908\n",
      "Epoch [4/10], Step [600/600], Loss: 0.0542\n",
      "Epoch [5/10], Step [100/600], Loss: 0.0070\n",
      "Epoch [5/10], Step [200/600], Loss: 0.0122\n",
      "Epoch [5/10], Step [300/600], Loss: 0.0325\n",
      "Epoch [5/10], Step [400/600], Loss: 0.0216\n",
      "Epoch [5/10], Step [500/600], Loss: 0.0086\n",
      "Epoch [5/10], Step [600/600], Loss: 0.0204\n"
     ]
    }
   ],
   "source": [
    "for epoch in range(5):\n",
    "    for i, (images, labels) in enumerate(train_loader):\n",
    "        images = Variable(images)\n",
    "        labels = Variable(labels)\n",
    "        \n",
    "        optimizer.zero_grad()\n",
    "        output = net(images)\n",
    "        loss = criterion(output, labels)\n",
    "        \n",
    "        loss.backward()\n",
    "        optimizer.step()\n",
    "        \n",
    "        if (i+1) % batch_sz == 0:\n",
    "            print('Epoch [%d/%d], Step [%d/%d], Loss: %.4f'\n",
    "                 %(epoch+1, epochs, i+1, len(train_dataset)//batch_sz, loss.data[0]))"
   ]
  },
  {
   "cell_type": "code",
   "execution_count": 8,
   "metadata": {},
   "outputs": [
    {
     "name": "stdout",
     "output_type": "stream",
     "text": [
      "Accuracy of the network on the 10K test images: 98.76 %\n"
     ]
    }
   ],
   "source": [
    "i=0\n",
    "correct = 0\n",
    "total = 0\n",
    "for images, labels in (test_loader):\n",
    "    images = Variable(images)\n",
    "    output = net(images)\n",
    "    _, pred = torch.max(output.data, 1)\n",
    "    correct += (labels == pred).sum().item()\n",
    "    total += len(pred)\n",
    "print('Accuracy of the network on the 10K test images: %.2f %%' % (100 * correct / float(total) ))"
   ]
  },
  {
   "cell_type": "code",
   "execution_count": null,
   "metadata": {},
   "outputs": [],
   "source": []
  }
 ],
 "metadata": {
  "kernelspec": {
   "display_name": "Python 2",
   "language": "python",
   "name": "python2"
  },
  "language_info": {
   "codemirror_mode": {
    "name": "ipython",
    "version": 2
   },
   "file_extension": ".py",
   "mimetype": "text/x-python",
   "name": "python",
   "nbconvert_exporter": "python",
   "pygments_lexer": "ipython2",
   "version": "2.7.12"
  }
 },
 "nbformat": 4,
 "nbformat_minor": 2
}
